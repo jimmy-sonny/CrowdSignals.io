{
 "cells": [
  {
   "cell_type": "code",
   "execution_count": 1,
   "metadata": {},
   "outputs": [],
   "source": [
    "import numpy as np\n",
    "import matplotlib.pyplot as plt"
   ]
  },
  {
   "cell_type": "code",
   "execution_count": 2,
   "metadata": {},
   "outputs": [],
   "source": [
    "mc_cell = np.loadtxt(open(\"markov_cell.csv\"), delimiter=\" \")\n",
    "mc_cell = mc_cell[1:,1:]"
   ]
  },
  {
   "cell_type": "code",
   "execution_count": 3,
   "metadata": {},
   "outputs": [
    {
     "name": "stdout",
     "output_type": "stream",
     "text": [
      "[[0.   0.   0.5  0.   0.   0.5  0.   0.   0.   0.   0.   0.  ]\n",
      " [0.   0.   0.5  0.   0.   0.   0.   0.5  0.   0.   0.   0.  ]\n",
      " [0.   0.01 0.72 0.   0.   0.   0.21 0.   0.   0.02 0.04 0.01]\n",
      " [0.   0.   0.   0.67 0.   0.   0.   0.   0.   0.   0.   0.33]\n",
      " [0.   0.   0.   0.   0.89 0.   0.   0.   0.   0.   0.   0.11]\n",
      " [0.   0.   0.   0.   0.   0.64 0.   0.27 0.08 0.   0.   0.  ]\n",
      " [0.   0.   0.44 0.   0.   0.   0.53 0.   0.   0.03 0.   0.  ]\n",
      " [0.   0.   0.   0.   0.   0.55 0.   0.42 0.02 0.   0.   0.01]\n",
      " [0.   0.01 0.   0.   0.01 0.19 0.   0.08 0.71 0.   0.   0.  ]\n",
      " [0.   0.   0.6  0.   0.   0.   0.2  0.   0.   0.2  0.   0.  ]\n",
      " [0.   0.   0.17 0.   0.   0.   0.04 0.   0.04 0.   0.75 0.  ]\n",
      " [0.25 0.   0.   0.   0.   0.25 0.   0.25 0.   0.   0.25 0.  ]]\n",
      "(12, 12)\n"
     ]
    }
   ],
   "source": [
    "print(mc_cell)\n",
    "print(mc_cell.shape)"
   ]
  },
  {
   "cell_type": "code",
   "execution_count": 4,
   "metadata": {},
   "outputs": [
    {
     "data": {
      "image/png": "[encoded data removed]",
      "text/plain": [
       "<matplotlib.figure.Figure at 0x10ee03f98>"
      ]
     },
     "metadata": {},
     "output_type": "display_data"
    }
   ],
   "source": [
    "plt.imshow(mc_cell, cmap='Blues', interpolation='nearest')\n",
    "plt.xlabel('Meaningful locations')\n",
    "plt.ylabel('Meaningful locations')\n",
    "plt.savefig(\"markov_cell.png\", dpi=300)"
   ]
  },
  {
   "cell_type": "code",
   "execution_count": 5,
   "metadata": {},
   "outputs": [],
   "source": [
    "mc_wifi = np.loadtxt(open(\"markov_wifi.csv\"), delimiter=\" \")\n",
    "mc_wifi = mc_wifi[1:,1:]"
   ]
  },
  {
   "cell_type": "code",
   "execution_count": 6,
   "metadata": {},
   "outputs": [
    {
     "name": "stdout",
     "output_type": "stream",
     "text": [
      "[[0.   0.   0.   0.   0.   0.   0.   0.   0.   0.   0.   0.   0.   0.\n",
      "  1.  ]\n",
      " [0.   0.   0.   1.   0.   0.   0.   0.   0.   0.   0.   0.   0.   0.\n",
      "  0.  ]\n",
      " [0.   0.   0.5  0.5  0.   0.   0.   0.   0.   0.   0.   0.   0.   0.\n",
      "  0.  ]\n",
      " [0.   0.   0.   0.93 0.   0.   0.   0.   0.   0.   0.   0.   0.   0.\n",
      "  0.06]\n",
      " [0.   0.   0.   0.5  0.   0.   0.   0.   0.   0.   0.   0.   0.   0.\n",
      "  0.5 ]\n",
      " [0.   0.   0.   0.   0.   0.   0.   0.   0.   0.   0.   0.   0.   0.\n",
      "  1.  ]\n",
      " [0.   0.   0.   0.   0.   0.   0.6  0.   0.   0.   0.   0.   0.   0.\n",
      "  0.4 ]\n",
      " [0.   0.   0.   0.   0.   0.   0.   0.82 0.   0.   0.   0.   0.   0.\n",
      "  0.18]\n",
      " [0.   0.   0.   0.01 0.   0.   0.   0.   0.68 0.   0.   0.01 0.   0.\n",
      "  0.3 ]\n",
      " [0.   0.   0.   0.   0.   0.   0.   0.   0.   0.5  0.   0.   0.   0.\n",
      "  0.5 ]\n",
      " [0.   0.   0.   0.   0.   0.   0.   0.   0.29 0.14 0.14 0.   0.   0.\n",
      "  0.43]\n",
      " [0.   0.   0.   0.   0.   0.   0.   0.   0.   0.   0.   0.   0.   0.\n",
      "  1.  ]\n",
      " [0.   0.   0.   0.   0.   0.   0.25 0.   0.   0.   0.   0.   0.5  0.\n",
      "  0.25]\n",
      " [0.   0.   0.   0.   0.   0.   0.   0.   0.   0.   0.   0.   0.5  0.\n",
      "  0.5 ]\n",
      " [0.   0.   0.01 0.13 0.03 0.   0.   0.01 0.16 0.   0.02 0.   0.   0.01\n",
      "  0.6 ]]\n",
      "(15, 15)\n"
     ]
    }
   ],
   "source": [
    "print(mc_wifi)\n",
    "print(mc_wifi.shape)"
   ]
  },
  {
   "cell_type": "code",
   "execution_count": 7,
   "metadata": {},
   "outputs": [
    {
     "data": {
      "image/png": "[encoded data removed]",
      "text/plain": [
       "<matplotlib.figure.Figure at 0x10ee03f28>"
      ]
     },
     "metadata": {},
     "output_type": "display_data"
    }
   ],
   "source": [
    "plt.imshow(mc_wifi, cmap='Blues', interpolation='nearest')\n",
    "plt.xlabel('Meaningful locations')\n",
    "plt.ylabel('Meaningful locations')\n",
    "plt.savefig(\"markov_wifi.png\", dpi=300)"
   ]
  }
 ],
 "metadata": {
  "kernelspec": {
   "display_name": "Python 3",
   "language": "python",
   "name": "python3"
  },
  "language_info": {
   "codemirror_mode": {
    "name": "ipython",
    "version": 3
   },
   "file_extension": ".py",
   "mimetype": "text/x-python",
   "name": "python",
   "nbconvert_exporter": "python",
   "pygments_lexer": "ipython3",
   "version": "3.6.4"
  }
 },
 "nbformat": 4,
 "nbformat_minor": 2
}
