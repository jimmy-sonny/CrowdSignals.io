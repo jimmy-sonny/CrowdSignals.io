{
 "cells": [
  {
   "cell_type": "code",
   "execution_count": 1,
   "metadata": {},
   "outputs": [],
   "source": [
    "import matplotlib.pyplot as plt\n",
    "import pandas as pd\n",
    "import numpy as np"
   ]
  },
  {
   "cell_type": "code",
   "execution_count": 2,
   "metadata": {},
   "outputs": [],
   "source": [
    "df = pd.read_csv(\"cluster_wifi.csv\", index_col=0)"
   ]
  },
  {
   "cell_type": "code",
   "execution_count": 3,
   "metadata": {},
   "outputs": [
    {
     "data": {
      "text/html": [
       "<div>\n",
       "<style scoped>\n",
       "    .dataframe tbody tr th:only-of-type {\n",
       "        vertical-align: middle;\n",
       "    }\n",
       "\n",
       "    .dataframe tbody tr th {\n",
       "        vertical-align: top;\n",
       "    }\n",
       "\n",
       "    .dataframe thead th {\n",
       "        text-align: right;\n",
       "    }\n",
       "</style>\n",
       "<table border=\"1\" class=\"dataframe\">\n",
       "  <thead>\n",
       "    <tr style=\"text-align: right;\">\n",
       "      <th></th>\n",
       "      <th>avg</th>\n",
       "      <th>total</th>\n",
       "    </tr>\n",
       "    <tr>\n",
       "      <th>cluster</th>\n",
       "      <th></th>\n",
       "      <th></th>\n",
       "    </tr>\n",
       "  </thead>\n",
       "  <tbody>\n",
       "    <tr>\n",
       "      <th>0</th>\n",
       "      <td>8.015212</td>\n",
       "      <td>16.030423</td>\n",
       "    </tr>\n",
       "    <tr>\n",
       "      <th>1</th>\n",
       "      <td>30.046393</td>\n",
       "      <td>30.046393</td>\n",
       "    </tr>\n",
       "    <tr>\n",
       "      <th>2</th>\n",
       "      <td>0.000000</td>\n",
       "      <td>0.000000</td>\n",
       "    </tr>\n",
       "    <tr>\n",
       "      <th>3</th>\n",
       "      <td>17.554150</td>\n",
       "      <td>210.649802</td>\n",
       "    </tr>\n",
       "    <tr>\n",
       "      <th>4</th>\n",
       "      <td>5.440393</td>\n",
       "      <td>16.321178</td>\n",
       "    </tr>\n",
       "  </tbody>\n",
       "</table>\n",
       "</div>"
      ],
      "text/plain": [
       "               avg       total\n",
       "cluster                       \n",
       "0         8.015212   16.030423\n",
       "1        30.046393   30.046393\n",
       "2         0.000000    0.000000\n",
       "3        17.554150  210.649802\n",
       "4         5.440393   16.321178"
      ]
     },
     "execution_count": 3,
     "metadata": {},
     "output_type": "execute_result"
    }
   ],
   "source": [
    "df.head()"
   ]
  },
  {
   "cell_type": "code",
   "execution_count": 4,
   "metadata": {},
   "outputs": [
    {
     "data": {
      "image/png": "[encoded data removed]",
      "text/plain": [
       "<matplotlib.figure.Figure at 0x10e196b00>"
      ]
     },
     "metadata": {},
     "output_type": "display_data"
    }
   ],
   "source": [
    "import matplotlib.pyplot as plt\n",
    "df['type'] = [0,1,0,1,0,0,0,0,0,1,1,1,0]\n",
    "X_v = df[df['type'] == 1]['avg'].values.tolist()\n",
    "X = df[df['type'] == 1]['avg'].index.tolist()\n",
    "Y_v = df[df['type'] == 0]['avg'].values.tolist()[:-1]\n",
    "Y = df[df['type'] == 0]['avg'].index.tolist()[:-1]\n",
    "\n",
    "fig, ax = plt.subplots(1, 1)\n",
    "ax.bar(X, X_v, color=\"red\", width=0.4, align=\"center\")\n",
    "ax.bar(Y, Y_v, width=0.4, align=\"center\")\n",
    "plt.xticks(np.arange(0, 12, 1.0))\n",
    "ax.legend(['High network usage', 'Low network usage'], loc='upper center')\n",
    "plt.ylabel(\"Average network usage in MB\")\n",
    "plt.xlabel(\"Wi-Fi cluster number\")\n",
    "# plt.show()\n",
    "plt.savefig(\"network_usage_wifi.png\", dpi=300)"
   ]
  }
 ],
 "metadata": {
  "kernelspec": {
   "display_name": "Python 3",
   "language": "python",
   "name": "python3"
  },
  "language_info": {
   "codemirror_mode": {
    "name": "ipython",
    "version": 3
   },
   "file_extension": ".py",
   "mimetype": "text/x-python",
   "name": "python",
   "nbconvert_exporter": "python",
   "pygments_lexer": "ipython3",
   "version": "3.6.4"
  }
 },
 "nbformat": 4,
 "nbformat_minor": 2
}
